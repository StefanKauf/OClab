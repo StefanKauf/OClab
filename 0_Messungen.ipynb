{
 "cells": [
  {
   "cell_type": "code",
   "execution_count": null,
   "metadata": {},
   "outputs": [],
   "source": [
    "'''\n",
    "Title:  Darstellung der Messungen\n",
    "Author: Kaufmann Stefan\n",
    "Date:   08.05.2023\n",
    "'''\n",
    "\n",
    "# Requirements\n",
    "\n",
    "# python 3.10.6\n",
    "\n",
    "import numpy as np\n",
    "import matplotlib.pyplot as plt\n",
    "import libopc as libs  "
   ]
  },
  {
   "attachments": {},
   "cell_type": "markdown",
   "metadata": {},
   "source": []
  }
 ],
 "metadata": {
  "language_info": {
   "name": "python"
  },
  "orig_nbformat": 4
 },
 "nbformat": 4,
 "nbformat_minor": 2
}
