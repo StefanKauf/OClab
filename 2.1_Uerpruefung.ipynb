{
 "cells": [
  {
   "cell_type": "code",
   "execution_count": 1,
   "metadata": {},
   "outputs": [],
   "source": [
    "'''\n",
    "Title:  Überprüfung erweitertes Modell\n",
    "Author: Kaufmann Stefan\n",
    "Date:   29.05.2023\n",
    "'''\n",
    "\n",
    "# Requirements\n",
    "\n",
    "# python 3.10.6\n",
    "\n",
    "import numpy as np\n",
    "import matplotlib.pyplot as plt\n",
    "import libopc as libs  \n",
    "import casadi as cas\n",
    "import control as ct\n",
    "import control.optimal as obc"
   ]
  },
  {
   "cell_type": "code",
   "execution_count": 2,
   "metadata": {},
   "outputs": [
    {
     "data": {
      "text/plain": [
       "'\\nresult = obc.solve_ocp(\\n    Quanser, timepts, x0_, traj_cost, constraints,\\n    terminal_cost=term_cost, initial_guess=u0)\\n\\n'"
      ]
     },
     "execution_count": 2,
     "metadata": {},
     "output_type": "execute_result"
    }
   ],
   "source": [
    "\n",
    "\n",
    "Nct = 50\n",
    "\n",
    "def system_update(t, x, u,params):\n",
    "    # Return the derivative of the state\n",
    "    return libs.A_ex2@x + libs.B_ex2*u\n",
    "\n",
    "def system_output(t, x, u,params):\n",
    "    return x\n",
    "\n",
    "\n",
    "\n",
    "# Define the vehicle steering dynamics as an input/output system\n",
    "Quanser = ct.NonlinearIOSystem(\n",
    "    system_update, system_output, states=5, name='Quanser',\n",
    "    inputs=('u'), outputs=('i','phi','omega','phi2','omega2'))\n",
    "\n",
    "\n",
    "u0 = np.array([0.]); x0_ = np.array([0., 0., 0., 0., 0.]); \n",
    "uf = np.array([0.]); xf_ = np.array([0, 0,0, np.pi/2., 0.]); \n",
    "Tf = 2\n",
    "\n",
    "Q = np.diag([0,0,0,100,0])\n",
    "S = Q*10\n",
    "R = 0.0001\n",
    "\n",
    "traj_cost = obc.quadratic_cost(Quanser, Q, R, x0=xf_, u0=uf)\n",
    "term_cost = obc.quadratic_cost(Quanser, S, 0, x0=xf_)\n",
    "\n",
    "constraints = [ obc.input_range_constraint(Quanser, [-6],[6])]\n",
    "\n",
    "timepts = np.linspace(0, Tf, Nct, endpoint=True)\n",
    "\n",
    "'''\n",
    "result = obc.solve_ocp(\n",
    "    Quanser, timepts, x0_, traj_cost, constraints,\n",
    "    terminal_cost=term_cost, initial_guess=u0)\n",
    "\n",
    "'''\n"
   ]
  },
  {
   "cell_type": "code",
   "execution_count": 3,
   "metadata": {},
   "outputs": [],
   "source": [
    "x0_ = np.array([0., 0., 0, 0.1, 0])\n",
    "\n",
    "time = np.linspace(0, 5, 50)"
   ]
  },
  {
   "cell_type": "code",
   "execution_count": 4,
   "metadata": {},
   "outputs": [],
   "source": [
    "# Simulate the system dynamics (open loop)\n",
    "#input = result.inputs*0; timepts = np.linspace(0, Tf, Nct, endpoint=True); t_ev=np.linspace(0, Tf, Nct)\n",
    "input = time*0; timepts = time; t_ev=time\n",
    "#input = U3[:-1] ;  timepts = np.linspace(0, Tend, N, endpoint=True); t_ev=np.linspace(0, Tend, N)\n",
    "#input = U1[:-1] ;  timepts = np.linspace(0, T1, N, endpoint=True);  t_ev=np.linspace(0, T1, N)\n",
    "\n",
    "resp = ct.input_output_response(\n",
    "    Quanser, timepts, input, x0_,\n",
    "    t_eval=t_ev)\n",
    "t_sim, y_sim, u_sim = resp.time, resp.outputs, resp.inputs\n",
    "\n",
    "\n",
    "plt.figure(1)\n",
    "#plt.plot(t_sim, y_sim[0], label = 'Strom')\n",
    "plt.plot(t_sim, y_sim[1], label = 'Phi 1')\n",
    "#plt.plot(t_sim, y_sim[2], label = 'Omega 1')\n",
    "plt.title('Zustände 1')\n",
    "plt.legend(loc = 'best')\n",
    "plt.grid()\n",
    "plt.figure(2)\n",
    "plt.plot(t_sim, y_sim[3], label = 'Phi 2')\n",
    "#plt.plot(t_sim, y_sim[4], label = 'Omega 2')\n",
    "plt.grid()\n",
    "plt.legend(loc = 'best')\n",
    "plt.title('Zustände 2')\n",
    "\n",
    "plt.figure(3)\n",
    "plt.step(t_sim,u_sim[0], label = 'Spannung')\n",
    "plt.grid()\n",
    "plt.legend(loc = 'best')\n",
    "plt.title('Eingang')\n"
   ]
  }
 ],
 "metadata": {
  "kernelspec": {
   "display_name": "Python 3",
   "language": "python",
   "name": "python3"
  },
  "language_info": {
   "codemirror_mode": {
    "name": "ipython",
    "version": 3
   },
   "file_extension": ".py",
   "mimetype": "text/x-python",
   "name": "python",
   "nbconvert_exporter": "python",
   "pygments_lexer": "ipython3",
   "version": "3.10.6"
  },
  "orig_nbformat": 4
 },
 "nbformat": 4,
 "nbformat_minor": 2
}
